{
 "cells": [
  {
   "cell_type": "code",
   "execution_count": 1,
   "metadata": {},
   "outputs": [],
   "source": [
    "import numpy as np\n",
    "import pandas as pd\n",
    "import matplotlib.pyplot as plt\n",
    "from estimation import sampling\n",
    "np.random.seed(0)"
   ]
  },
  {
   "cell_type": "markdown",
   "metadata": {},
   "source": [
    "# #1"
   ]
  },
  {
   "cell_type": "markdown",
   "metadata": {},
   "source": [
    "### Generate 1,000 samples having normal distribution with a mean of 100 and a variance of 4"
   ]
  },
  {
   "cell_type": "code",
   "execution_count": 2,
   "metadata": {
    "scrolled": true
   },
   "outputs": [
    {
     "data": {
      "text/html": [
       "<div>\n",
       "<style scoped>\n",
       "    .dataframe tbody tr th:only-of-type {\n",
       "        vertical-align: middle;\n",
       "    }\n",
       "\n",
       "    .dataframe tbody tr th {\n",
       "        vertical-align: top;\n",
       "    }\n",
       "\n",
       "    .dataframe thead th {\n",
       "        text-align: right;\n",
       "    }\n",
       "</style>\n",
       "<table border=\"1\" class=\"dataframe\">\n",
       "  <thead>\n",
       "    <tr style=\"text-align: right;\">\n",
       "      <th></th>\n",
       "      <th>value</th>\n",
       "    </tr>\n",
       "  </thead>\n",
       "  <tbody>\n",
       "    <tr>\n",
       "      <th>0</th>\n",
       "      <td>103.5</td>\n",
       "    </tr>\n",
       "    <tr>\n",
       "      <th>1</th>\n",
       "      <td>100.8</td>\n",
       "    </tr>\n",
       "    <tr>\n",
       "      <th>2</th>\n",
       "      <td>102.0</td>\n",
       "    </tr>\n",
       "    <tr>\n",
       "      <th>3</th>\n",
       "      <td>104.5</td>\n",
       "    </tr>\n",
       "    <tr>\n",
       "      <th>4</th>\n",
       "      <td>103.7</td>\n",
       "    </tr>\n",
       "    <tr>\n",
       "      <th>...</th>\n",
       "      <td>...</td>\n",
       "    </tr>\n",
       "    <tr>\n",
       "      <th>995</th>\n",
       "      <td>100.8</td>\n",
       "    </tr>\n",
       "    <tr>\n",
       "      <th>996</th>\n",
       "      <td>99.6</td>\n",
       "    </tr>\n",
       "    <tr>\n",
       "      <th>997</th>\n",
       "      <td>100.2</td>\n",
       "    </tr>\n",
       "    <tr>\n",
       "      <th>998</th>\n",
       "      <td>97.7</td>\n",
       "    </tr>\n",
       "    <tr>\n",
       "      <th>999</th>\n",
       "      <td>99.3</td>\n",
       "    </tr>\n",
       "  </tbody>\n",
       "</table>\n",
       "<p>1000 rows × 1 columns</p>\n",
       "</div>"
      ],
      "text/plain": [
       "     value\n",
       "0    103.5\n",
       "1    100.8\n",
       "2    102.0\n",
       "3    104.5\n",
       "4    103.7\n",
       "..     ...\n",
       "995  100.8\n",
       "996   99.6\n",
       "997  100.2\n",
       "998   97.7\n",
       "999   99.3\n",
       "\n",
       "[1000 rows x 1 columns]"
      ]
     },
     "execution_count": 2,
     "metadata": {},
     "output_type": "execute_result"
    }
   ],
   "source": [
    "data = np.round_(np.random.normal(loc = 100, scale = 2, size = 1000), 1)\n",
    "pd.DataFrame(data,columns = ['value'])"
   ]
  },
  {
   "cell_type": "code",
   "execution_count": 3,
   "metadata": {},
   "outputs": [
    {
     "name": "stdout",
     "output_type": "stream",
     "text": [
      "min: 93.9\n",
      "max: 105.5\n"
     ]
    }
   ],
   "source": [
    "print(f'min: {np.min(data)}')\n",
    "print(f'max: {np.max(data)}')"
   ]
  },
  {
   "cell_type": "markdown",
   "metadata": {},
   "source": [
    "Drawing graph"
   ]
  },
  {
   "cell_type": "code",
   "execution_count": 4,
   "metadata": {
    "scrolled": true
   },
   "outputs": [],
   "source": [
    "uniq, counts = np.unique(data, return_counts=True)"
   ]
  },
  {
   "cell_type": "code",
   "execution_count": 5,
   "metadata": {
    "scrolled": true
   },
   "outputs": [
    {
     "data": {
      "image/png": "[encoded data removed]",
      "text/plain": [
       "<Figure size 432x288 with 2 Axes>"
      ]
     },
     "metadata": {
      "needs_background": "light"
     },
     "output_type": "display_data"
    }
   ],
   "source": [
    "fig = plt.figure()\n",
    "ax1 = fig.add_subplot(2, 1, 1)\n",
    "ax2 = fig.add_subplot(2, 1, 2)\n",
    "\n",
    "x1 = np.arange(80, 120.1, 0.1)\n",
    "y1 = np.zeros(401, dtype=int)\n",
    "for i in range(len(uniq)):\n",
    "    y1[int(uniq[i]*10-800)] = counts[i]\n",
    "\n",
    "x2 = np.arange(93, 106.1, 0.1)\n",
    "y2 = np.zeros(131, dtype=int)\n",
    "for i in range(len(uniq)):\n",
    "    y2[int(uniq[i]*10-930)] = counts[i]\n",
    "\n",
    "ax1.plot(x1,y1)\n",
    "ax1.set_yticks(np.arange(0, 31, 10))\n",
    "ax2.plot(x2,y2)\n",
    "ax2.set_yticks(np.arange(0, 31, 10))\n",
    "plt.show()"
   ]
  },
  {
   "cell_type": "code",
   "execution_count": 6,
   "metadata": {},
   "outputs": [
    {
     "data": {
      "image/png": "[encoded data removed]",
      "text/plain": [
       "<Figure size 432x288 with 2 Axes>"
      ]
     },
     "metadata": {
      "needs_background": "light"
     },
     "output_type": "display_data"
    }
   ],
   "source": [
    "fig = plt.figure()\n",
    "ax1 = fig.add_subplot(2, 1, 1)\n",
    "ax2 = fig.add_subplot(2, 1, 2)\n",
    "\n",
    "ax1.plot(x1, y1/10)\n",
    "ax1.set_yticks(np.arange(4))\n",
    "ax1.set_yticklabels(['0%', '1%', '2%', '3%'])\n",
    "ax2.plot(x2, y2/10)\n",
    "ax2.set_yticks(np.arange(4))\n",
    "ax2.set_yticklabels(['0%', '1%', '2%', '3%'])\n",
    "plt.show()"
   ]
  },
  {
   "cell_type": "markdown",
   "metadata": {},
   "source": [
    "# #2"
   ]
  },
  {
   "cell_type": "markdown",
   "metadata": {},
   "source": [
    "# <div align=\"center\"><b>Single population</b></div>\n",
    "### <div align=\"center\"><b> Estimate mean in sample distribution</b></div>\n",
    "$$ \\overline{X} = \\frac{1}{n}\\sum_{i=1}^{n}X_i $$\n",
    "### <div align=\"center\"><b> Estimate variance in sample distribution</b></div>\n",
    "$$S^2 = \\frac{1}{n-1}\\sum_{i=1}^{n}(X_i-\\overline{X})^2 $$\n",
    "### <div align=\"center\"><b> Using sample distribution, Estimate population mean with 95% confidence interval </b></div>\n",
    "$$ \\overline{x} - z_{0.025}\\frac{\\sigma}{\\sqrt{n}} < \\mu < \\overline{x} + z_{0.025}\\frac{\\sigma}{\\sqrt{n}} $$\n",
    "### <div align=\"center\"><b> Using sample distribution, Estimate population variance with 95% confidence interval </b></div>\n",
    "$$ \\frac{(n-1)s^2}{\\chi_{0.025}^2} < \\sigma^2 < \\frac{(n-1)s^2}{\\chi_{1-0.025}^2} $$\n",
    "### <div align=\"center\"><b> Estimate population mean without knowing population variance </b></div>\n",
    "$$ \\overline{x} - t_{0.025}\\frac{s}{\\sqrt{n}} < \\mu < \\overline{x} + t_{0.025}\\frac{s}{\\sqrt{n}} $$"
   ]
  },
  {
   "cell_type": "markdown",
   "metadata": {},
   "source": [
    "### population mean and variance"
   ]
  },
  {
   "cell_type": "code",
   "execution_count": 7,
   "metadata": {},
   "outputs": [],
   "source": [
    "population_var = 4"
   ]
  },
  {
   "cell_type": "markdown",
   "metadata": {},
   "source": [
    "#### Randomly sample 10 samples from population"
   ]
  },
  {
   "cell_type": "code",
   "execution_count": 8,
   "metadata": {},
   "outputs": [
    {
     "name": "stdout",
     "output_type": "stream",
     "text": [
      "Randomly sample 10 samples from population : 100.5, 98.0, 100.8, 101.6, 100.7, 95.5, 100.1, 100.7, 101.3, 97.4\n",
      "\n",
      "Estimate mean in sample distribution: 99.7\n",
      "Estimate variance in sample distribution: 4.0\n",
      "\n",
      "Using sample distribution,Estimate population mean with 95% confidence interval : 98.46 < μ < 100.94\n",
      "Using sample distribution, Estimate population variance with 95% confidence interval : 1.89 < σ^2 < 13.33\n",
      "Estimate population mean with 95% confidence interval in t-distribution : 98.15 < μ < 101.25\n"
     ]
    }
   ],
   "source": [
    "samples_10_1 = sampling(data, 10)\n",
    "print(samples_10_1)\n",
    "\n",
    "samples_10_1.estimate_population_mean_and_variance(population_var)\n",
    "samples_10_1.estimate_population_mean_t_distribution()"
   ]
  },
  {
   "cell_type": "markdown",
   "metadata": {},
   "source": [
    "$$ \\overline{X} = 99.7 \\:, \\:\\: S^2 = 4.0 $$  \n",
    "  \n",
    "$$ 98.46 < \\mu < 100.94 $$  \n",
    "\n",
    "$$ 1.89 < \\sigma^2 < 13.33 $$  \n",
    "\n",
    "$$ 98.15 < \\mu < 101.25 $$"
   ]
  },
  {
   "cell_type": "markdown",
   "metadata": {},
   "source": [
    "#### Randomly sample 30 samples from population"
   ]
  },
  {
   "cell_type": "code",
   "execution_count": 9,
   "metadata": {
    "scrolled": true
   },
   "outputs": [
    {
     "name": "stdout",
     "output_type": "stream",
     "text": [
      "Randomly sample 30 samples from population : 99.0, 102.2, 99.8, 98.0, 97.9, 99.0, 100.6, 101.0, 100.2, 99.4, 98.5, 100.0, 104.1, 100.6, 100.5, 99.5, 95.9, 102.7, 103.5, 100.9, 102.5, 101.9, 99.8, 100.2, 98.9, 99.8, 97.3, 99.2, 100.7, 97.9\n",
      "\n",
      "Estimate mean in sample distribution: 100.0\n",
      "Estimate variance in sample distribution: 3.38\n",
      "\n",
      "Using sample distribution,Estimate population mean with 95% confidence interval : 99.28 < μ < 100.72\n",
      "Using sample distribution, Estimate population variance with 95% confidence interval : 2.14 < σ^2 < 6.11\n",
      "Estimate population mean with 95% confidence interval in t-distribution : 99.18 < μ < 100.82\n"
     ]
    }
   ],
   "source": [
    "samples_30_1 = sampling(data, 30)\n",
    "print(samples_30_1)\n",
    "\n",
    "samples_30_1.estimate_population_mean_and_variance(population_var)\n",
    "samples_30_1.estimate_population_mean_t_distribution()"
   ]
  },
  {
   "cell_type": "markdown",
   "metadata": {},
   "source": [
    "$$ \\overline{X} = 100.0 \\:, \\:\\: S^2 = 3.38 $$  \n",
    "  \n",
    "$$ 99.28 < \\mu < 100.72 $$  \n",
    "\n",
    "$$ 2.14 < \\sigma^2 < 6.11 $$  \n",
    "\n",
    "$$ 99.18 < \\mu < 100.82 $$"
   ]
  },
  {
   "cell_type": "markdown",
   "metadata": {},
   "source": [
    "#### Randomly sample 61 samples from population"
   ]
  },
  {
   "cell_type": "code",
   "execution_count": 10,
   "metadata": {
    "scrolled": true
   },
   "outputs": [
    {
     "name": "stdout",
     "output_type": "stream",
     "text": [
      "Randomly sample 61 samples from population : 100.9, 102.4, 97.8, 103.0, 101.7, 98.6, 98.8, 100.8, 94.7, 100.2, 100.9, 98.8, 99.6, 100.7, 98.2, 102.4, 102.0, 102.7, 99.8, 102.6, 100.8, 100.8, 97.7, 99.2, 98.1, 99.5, 103.5, 103.9, 98.7, 99.0, 102.5, 99.9, 98.8, 98.7, 101.4, 99.9, 95.9, 99.9, 97.7, 96.1, 98.7, 98.3, 98.2, 98.6, 100.8, 101.0, 103.5, 98.8, 100.4, 100.1, 98.6, 101.0, 100.7, 96.7, 101.2, 97.6, 97.8, 97.7, 104.5, 100.9, 100.9\n",
      "\n",
      "Estimate mean in sample distribution: 99.9\n",
      "Estimate variance in sample distribution: 4.23\n",
      "\n",
      "Using sample distribution,Estimate population mean with 95% confidence interval : 99.4 < μ < 100.4\n",
      "Using sample distribution, Estimate population variance with 95% confidence interval : 3.05 < σ^2 < 6.27\n",
      "Estimate population mean with 95% confidence interval in t-distribution : 99.26 < μ < 100.54\n"
     ]
    }
   ],
   "source": [
    "samples_61_1 = sampling(data, 61)\n",
    "print(samples_61_1)\n",
    "\n",
    "samples_61_1.estimate_population_mean_and_variance(population_var)\n",
    "samples_61_1.estimate_population_mean_t_distribution()"
   ]
  },
  {
   "cell_type": "markdown",
   "metadata": {},
   "source": [
    "$$ \\overline{X} = 99.9 \\:, \\:\\: S^2 = 4.23 $$  \n",
    "  \n",
    "$$ 99.4 < \\mu < 100.4 $$  \n",
    "\n",
    "$$ 3.05 < \\sigma^2 < 6.27 $$  \n",
    "\n",
    "$$ 99.26 < \\mu < 100.54 $$"
   ]
  },
  {
   "cell_type": "markdown",
   "metadata": {},
   "source": [
    "## Repeat #2"
   ]
  },
  {
   "cell_type": "code",
   "execution_count": 11,
   "metadata": {},
   "outputs": [
    {
     "name": "stdout",
     "output_type": "stream",
     "text": [
      "Randomly sample 10 samples from population : 96.6, 99.7, 104.5, 98.7, 102.2, 98.3, 101.2, 103.3, 97.1, 98.7\n",
      "\n",
      "Estimate mean in sample distribution: 100.0\n",
      "Estimate variance in sample distribution: 7.08\n",
      "\n",
      "Using sample distribution,Estimate population mean with 95% confidence interval : 98.76 < μ < 101.24\n",
      "Using sample distribution, Estimate population variance with 95% confidence interval : 3.35 < σ^2 < 23.6\n",
      "Estimate population mean with 95% confidence interval in t-distribution : 97.94 < μ < 102.06\n"
     ]
    }
   ],
   "source": [
    "samples_10_2 = sampling(data, 10)\n",
    "print(samples_10_2)\n",
    "\n",
    "samples_10_2.estimate_population_mean_and_variance(population_var)\n",
    "samples_10_2.estimate_population_mean_t_distribution()"
   ]
  },
  {
   "cell_type": "markdown",
   "metadata": {},
   "source": [
    "$$ \\overline{X} = 100.0 \\:, \\:\\: S^2 = 7.08 $$  \n",
    "  \n",
    "$$ 98.76 < \\mu < 101.24 $$  \n",
    "\n",
    "$$ 3.35 < \\sigma^2 < 23.6 $$  \n",
    "\n",
    "$$ 97.94 < \\mu < 102.06 $$"
   ]
  },
  {
   "cell_type": "code",
   "execution_count": 12,
   "metadata": {},
   "outputs": [
    {
     "name": "stdout",
     "output_type": "stream",
     "text": [
      "Randomly sample 30 samples from population : 96.9, 97.9, 101.1, 98.5, 100.7, 97.7, 97.1, 98.7, 103.9, 101.8, 99.6, 101.2, 103.5, 101.7, 101.7, 99.1, 98.7, 103.9, 94.3, 99.9, 96.9, 99.1, 98.0, 99.9, 99.5, 99.6, 97.7, 99.8, 101.9, 98.0\n",
      "\n",
      "Estimate mean in sample distribution: 99.6\n",
      "Estimate variance in sample distribution: 5.0\n",
      "\n",
      "Using sample distribution,Estimate population mean with 95% confidence interval : 98.88 < μ < 100.32\n",
      "Using sample distribution, Estimate population variance with 95% confidence interval : 3.17 < σ^2 < 9.04\n",
      "Estimate population mean with 95% confidence interval in t-distribution : 98.6 < μ < 100.6\n"
     ]
    }
   ],
   "source": [
    "samples_30_2 = sampling(data, 30)\n",
    "print(samples_30_2)\n",
    "\n",
    "samples_30_2.estimate_population_mean_and_variance(population_var)\n",
    "samples_30_2.estimate_population_mean_t_distribution()"
   ]
  },
  {
   "cell_type": "markdown",
   "metadata": {},
   "source": [
    "$$ \\overline{X} = 99.6 \\:, \\:\\: S^2 = 5.0 $$  \n",
    "  \n",
    "$$ 98.88 < \\mu < 100.32 $$  \n",
    "\n",
    "$$ 3.17 < \\sigma^2 < 9.04 $$  \n",
    "\n",
    "$$ 98.6 < \\mu < 100.6 $$"
   ]
  },
  {
   "cell_type": "code",
   "execution_count": 13,
   "metadata": {},
   "outputs": [
    {
     "name": "stdout",
     "output_type": "stream",
     "text": [
      "Randomly sample 61 samples from population : 100.6, 100.0, 100.1, 100.0, 99.3, 100.1, 99.5, 99.3, 100.4, 97.8, 101.4, 103.1, 98.5, 97.1, 98.1, 97.5, 98.8, 103.0, 99.8, 99.8, 103.1, 102.7, 100.9, 98.4, 99.6, 97.1, 100.0, 100.8, 99.7, 101.3, 96.5, 99.9, 95.4, 98.0, 99.7, 102.1, 100.3, 101.4, 99.6, 101.1, 98.6, 101.5, 101.8, 100.8, 103.7, 101.4, 100.3, 99.8, 100.0, 101.3, 100.3, 97.4, 98.7, 103.0, 104.0, 103.3, 98.4, 101.4, 103.5, 100.3, 99.5\n",
      "\n",
      "Estimate mean in sample distribution: 100.2\n",
      "Estimate variance in sample distribution: 3.52\n",
      "\n",
      "Using sample distribution,Estimate population mean with 95% confidence interval : 99.7 < μ < 100.7\n",
      "Using sample distribution, Estimate population variance with 95% confidence interval : 2.54 < σ^2 < 5.22\n",
      "Estimate population mean with 95% confidence interval in t-distribution : 99.61 < μ < 100.79\n"
     ]
    }
   ],
   "source": [
    "samples_61_2 = sampling(data, 61)\n",
    "print(samples_61_2)\n",
    "\n",
    "samples_61_2.estimate_population_mean_and_variance(population_var)\n",
    "samples_61_2.estimate_population_mean_t_distribution()"
   ]
  },
  {
   "cell_type": "markdown",
   "metadata": {},
   "source": [
    "$$ \\overline{X} = 100.2 \\:, \\:\\: S^2 = 3.52 $$  \n",
    "  \n",
    "$$ 99.7 < \\mu < 100.7 $$  \n",
    "\n",
    "$$ 2.54 < \\sigma^2 < 5.22 $$  \n",
    "\n",
    "$$ 99.61 < \\mu < 100.79 $$"
   ]
  },
  {
   "cell_type": "code",
   "execution_count": null,
   "metadata": {},
   "outputs": [],
   "source": []
  }
 ],
 "metadata": {
  "kernelspec": {
   "display_name": "Python 3",
   "language": "python",
   "name": "python3"
  },
  "language_info": {
   "codemirror_mode": {
    "name": "ipython",
    "version": 3
   },
   "file_extension": ".py",
   "mimetype": "text/x-python",
   "name": "python",
   "nbconvert_exporter": "python",
   "pygments_lexer": "ipython3",
   "version": "3.7.10"
  }
 },
 "nbformat": 4,
 "nbformat_minor": 4
}
